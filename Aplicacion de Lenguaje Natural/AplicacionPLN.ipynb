{
 "cells": [
  {
   "cell_type": "code",
   "execution_count": 2,
   "metadata": {},
   "outputs": [],
   "source": [
    "import pandas as pd\n",
    "import numpy as np\n",
    "import matplotlib.pyplot as plt"
   ]
  },
  {
   "cell_type": "code",
   "execution_count": 3,
   "metadata": {},
   "outputs": [],
   "source": [
    "def read_by_paragraph(output, threshold):\n",
    "    with open(\"wikipedia_water_corpus.txt\") as file:\n",
    "        text = file.read()\n",
    "\n",
    "        text_split = text.split('. ')\n",
    "        print(f\"{len(text_split)} paragraphs and sentences\")\n",
    "\n",
    "        for chunk in text_split:\n",
    "            if output and len(chunk) + len(output[-1]) < threshold:\n",
    "                output[-1] += ' ' + chunk + '.'\n",
    "            else:\n",
    "                output.append(chunk + '.')\n",
    "\n",
    "    return output"
   ]
  },
  {
   "cell_type": "code",
   "execution_count": 4,
   "metadata": {},
   "outputs": [
    {
     "name": "stdout",
     "output_type": "stream",
     "text": [
      "74364 paragraphs and sentences\n"
     ]
    }
   ],
   "source": [
    "outputs = []\n",
    "threshold = 2000\n",
    "output = read_by_paragraph(outputs, threshold)"
   ]
  },
  {
   "cell_type": "code",
   "execution_count": 5,
   "metadata": {},
   "outputs": [
    {
     "name": "stdout",
     "output_type": "stream",
     "text": [
      "7875 paragraphs\n"
     ]
    }
   ],
   "source": [
    "print(f\"{len(outputs)} paragraphs\")"
   ]
  },
  {
   "cell_type": "code",
   "execution_count": 6,
   "metadata": {},
   "outputs": [],
   "source": [
    "import torch\n",
    "from transformers import BertForQuestionAnswering\n",
    "from transformers import BertTokenizer"
   ]
  },
  {
   "cell_type": "code",
   "execution_count": 7,
   "metadata": {},
   "outputs": [
    {
     "data": {
      "application/vnd.jupyter.widget-view+json": {
       "model_id": "7091a304d3744004a5a91f900a4c17b6",
       "version_major": 2,
       "version_minor": 0
      },
      "text/plain": [
       "Downloading:   0%|          | 0.00/443 [00:00<?, ?B/s]"
      ]
     },
     "metadata": {},
     "output_type": "display_data"
    },
    {
     "data": {
      "application/vnd.jupyter.widget-view+json": {
       "model_id": "1d2fa6d261ae48e6aaa19e1aa12b5665",
       "version_major": 2,
       "version_minor": 0
      },
      "text/plain": [
       "Downloading:   0%|          | 0.00/1.34G [00:00<?, ?B/s]"
      ]
     },
     "metadata": {},
     "output_type": "display_data"
    },
    {
     "data": {
      "application/vnd.jupyter.widget-view+json": {
       "model_id": "d18baabb2c8c4d3ea5bb9d0d34cd4cd9",
       "version_major": 2,
       "version_minor": 0
      },
      "text/plain": [
       "Downloading:   0%|          | 0.00/232k [00:00<?, ?B/s]"
      ]
     },
     "metadata": {},
     "output_type": "display_data"
    },
    {
     "data": {
      "application/vnd.jupyter.widget-view+json": {
       "model_id": "a5c0ab8a42d548a1908240ea1c144c05",
       "version_major": 2,
       "version_minor": 0
      },
      "text/plain": [
       "Downloading:   0%|          | 0.00/28.0 [00:00<?, ?B/s]"
      ]
     },
     "metadata": {},
     "output_type": "display_data"
    }
   ],
   "source": [
    "#Model\n",
    "model = BertForQuestionAnswering.from_pretrained('bert-large-uncased-whole-word-masking-finetuned-squad', return_dict=False)\n",
    "#model = BertForQuestionAnswering.from_pretrained('deepset/roberta-base-squad2', return_dict=False)\n",
    "\n",
    "#Tokenizer\n",
    "tokenizer = BertTokenizer.from_pretrained('bert-large-uncased-whole-word-masking-finetuned-squad', return_dict=False)\n",
    "#tokenizer = BertTokenizer.from_pretrained('deepset/roberta-base-squad2d', return_dict=False)"
   ]
  },
  {
   "cell_type": "code",
   "execution_count": 8,
   "metadata": {},
   "outputs": [],
   "source": [
    "def tokenize_data(tokenizer, question, paragraph):\n",
    "    encoding = tokenizer.encode_plus(text=question, text_pair=paragraph)\n",
    "\n",
    "    inputs = encoding['input_ids']  #Token embeddings\n",
    "    sentence_embedding = encoding['token_type_ids']  #Segment embeddings\n",
    "    tokens = tokenizer.convert_ids_to_tokens(inputs) #input tokens\n",
    "\n",
    "    return inputs, sentence_embedding, tokens"
   ]
  },
  {
   "cell_type": "code",
   "execution_count": 9,
   "metadata": {},
   "outputs": [],
   "source": [
    "# Recover any words that were broken down into subwords\n",
    "def get_answer(answer):\n",
    "    corrected_answer = ''\n",
    "\n",
    "    for word in answer.split():\n",
    "        \n",
    "        #If it's a subword token\n",
    "        if word[0:2] == '##':\n",
    "            corrected_answer += word[2:]\n",
    "        else:\n",
    "            corrected_answer += ' ' + word\n",
    "\n",
    "    return corrected_answer"
   ]
  },
  {
   "cell_type": "code",
   "execution_count": 10,
   "metadata": {},
   "outputs": [],
   "source": [
    "def get_answer_from_question(model, inputs, sentence_embedding, tokens):\n",
    "    start_scores, end_scores = model(input_ids=torch.tensor([inputs]), token_type_ids=torch.tensor([sentence_embedding]))\n",
    "\n",
    "    start_index = torch.argmax(start_scores)\n",
    "    end_index = torch.argmax(end_scores)\n",
    "\n",
    "    answer = ' '.join(tokens[start_index:end_index+1])\n",
    "\n",
    "    return get_answer(answer)\n"
   ]
  },
  {
   "cell_type": "markdown",
   "metadata": {},
   "source": [
    "## Test model"
   ]
  },
  {
   "cell_type": "code",
   "execution_count": 11,
   "metadata": {},
   "outputs": [],
   "source": [
    "def get_the_answer(model, tokenizer, question, context):\n",
    "    inputs, sentence_embedding, tokens = tokenize_data(tokenizer, question, context)\n",
    "\n",
    "    answer = get_answer_from_question(model, inputs, sentence_embedding, tokens)\n",
    "\n",
    "    return f\"{question} {answer}\""
   ]
  },
  {
   "cell_type": "markdown",
   "metadata": {},
   "source": [
    "### Test with the first paragraph"
   ]
  },
  {
   "cell_type": "markdown",
   "metadata": {},
   "source": [
    "#### First question (White foam in rivers)"
   ]
  },
  {
   "cell_type": "code",
   "execution_count": 11,
   "metadata": {},
   "outputs": [
    {
     "name": "stdout",
     "output_type": "stream",
     "text": [
      "Why Does Water Appear White While Going Over A Waterfall\n",
      "Water and dissolved oxygen\n",
      "Aeration\n",
      "How light reflects off water in a waterfall\n",
      "Suggested Reading\n",
      "The water appears white while going over a waterfall because the water is moving at a high pace and the trapped air in the water creates bubbles. The bubbles are what make the waterfall look white.\n",
      "If water is really stirred up, or moving at a high pace a pace that you can expect from waterfalls, then the trapped air in the water creates bubbles. It is these bubbles tiny air pockets that make a waterfall look white.\n",
      "Water is colorless; we all know that, right? Still, the color of snow – which is essentially frozen water – is white. Similarly, water that goes over a waterfall also appears to be white, despite actually being colorless.\n",
      "Waterfall whitish water\n",
      "Why is that water white? \n",
      "What’s going on here?\n",
      "The answer of this lies in how light interacts with matter, along with aeration.\n",
      "Thus, in a still water body, you don’t see the dissolved oxygen, but when water falls over a cliff – like in a waterfall – the dissolved oxygen presents itself, or rather, makes its presence felt.\n",
      "Aeration\n",
      "When water is standing still, or moving at a very relaxed, gentle pace, oxygen dissolves in it through diffusion from the surrounding air. However, when water flows rapidly, its flow becomes turbulent. As a result, it offers more surface area for oxygen to diffuse compared to a flat, slow-moving river.\n",
      "In addition to that, churning waters create turbulence, which causes air to hit the water at a high pressure, allowing more oxygen to dissolve. This sort of aeration creates tons of small bubbles in water, which are eventually responsible for the white color of waterfalls.\n",
      "How light reflects off water in a waterfall\n",
      "If you consider a body of water that’s sitting stationary, then you essentially have one surface from which light can reflect or even refract.\n"
     ]
    }
   ],
   "source": [
    "print(outputs[0])"
   ]
  },
  {
   "cell_type": "code",
   "execution_count": 12,
   "metadata": {},
   "outputs": [],
   "source": [
    "question = '''Why is water white when moving?'''\n",
    "question_spanish = 'Porque el agua se ve blanca cuando se mueve?'\n",
    "\n",
    "context = outputs[0]"
   ]
  },
  {
   "cell_type": "code",
   "execution_count": 13,
   "metadata": {},
   "outputs": [
    {
     "data": {
      "text/plain": [
       "'Why is water white when moving?  water is moving at a high pace and the trapped air in the water creates bubbles'"
      ]
     },
     "execution_count": 13,
     "metadata": {},
     "output_type": "execute_result"
    }
   ],
   "source": [
    "get_the_answer(model, tokenizer, question, context)"
   ]
  },
  {
   "cell_type": "code",
   "execution_count": 14,
   "metadata": {},
   "outputs": [
    {
     "data": {
      "text/plain": [
       "'Porque el agua se ve blanca cuando se mueve?  because the water is moving at a high pace and the trapped air in the water creates bubbles'"
      ]
     },
     "execution_count": 14,
     "metadata": {},
     "output_type": "execute_result"
    }
   ],
   "source": [
    "get_the_answer(model, tokenizer, question_spanish, context)"
   ]
  },
  {
   "cell_type": "markdown",
   "metadata": {},
   "source": [
    "### Test with other paragraphs"
   ]
  },
  {
   "cell_type": "code",
   "execution_count": 12,
   "metadata": {},
   "outputs": [],
   "source": [
    "def find_words_in_paragraph(words_list, output_list):\n",
    "    for index, paragraph in enumerate(outputs):\n",
    "        paragraph_lower = paragraph.lower()\n",
    "        flag = True\n",
    "        for word in words_list:\n",
    "            if word not in paragraph_lower:\n",
    "                flag = False\n",
    "                break\n",
    "        \n",
    "        if flag:\n",
    "            output_list.append(index)\n",
    "\n",
    "    return output_list"
   ]
  },
  {
   "cell_type": "code",
   "execution_count": 13,
   "metadata": {},
   "outputs": [],
   "source": [
    "def get_list_answers(context_pos_list, answers_list, model, tokenizer, question):\n",
    "    for index, i in enumerate(context_pos_list):\n",
    "        context = outputs[i]\n",
    "\n",
    "        try:\n",
    "            answer = get_the_answer(model, tokenizer, question, context)\n",
    "        except Exception as e:\n",
    "            print(e)\n",
    "\n",
    "        if len(answer.split('?')[-1]) > 3:\n",
    "            answers_list.append((index, answer))\n",
    "    \n",
    "    return answers_list"
   ]
  },
  {
   "cell_type": "markdown",
   "metadata": {},
   "source": [
    "#### Second question (river movement)"
   ]
  },
  {
   "cell_type": "code",
   "execution_count": 43,
   "metadata": {},
   "outputs": [],
   "source": [
    "river_pos = []\n",
    "\n",
    "river_pos = find_words_in_paragraph([\"river\"], river_pos)"
   ]
  },
  {
   "cell_type": "code",
   "execution_count": 44,
   "metadata": {},
   "outputs": [
    {
     "data": {
      "text/plain": [
       "2272"
      ]
     },
     "execution_count": 44,
     "metadata": {},
     "output_type": "execute_result"
    }
   ],
   "source": [
    "len(river_pos)"
   ]
  },
  {
   "cell_type": "code",
   "execution_count": 45,
   "metadata": {},
   "outputs": [],
   "source": [
    "movement_pos = []\n",
    "\n",
    "movement_pos = find_words_in_paragraph(['move', 'river'], movement_pos)"
   ]
  },
  {
   "cell_type": "code",
   "execution_count": 46,
   "metadata": {},
   "outputs": [
    {
     "data": {
      "text/plain": [
       "446"
      ]
     },
     "execution_count": 46,
     "metadata": {},
     "output_type": "execute_result"
    }
   ],
   "source": [
    "len(movement_pos)"
   ]
  },
  {
   "cell_type": "code",
   "execution_count": 19,
   "metadata": {},
   "outputs": [
    {
     "name": "stdout",
     "output_type": "stream",
     "text": [
      "In general, velocity increases with the depth or hydraulic radius and slope of the river channel, while the cross-sectional area scales with the depth and the width: the double-counting of depth shows the importance of this variable in determining the discharge through the channel.\n",
      " Effects \n",
      " Fluvial erosion \n",
      "In its youthful stage, a river causes erosion in the watercourse, deepening the valley. Hydraulic action loosens and dislodges aggregate which further erodes the banks and the river bed. Over time, this deepens the river bed and creates steeper sides which are then weathered. The steepened nature of the banks causes the sides of the valley to move downslope causing the valley to become V-shaped.\n",
      "Waterfalls also form in the youthful river valley where a band of hard rock overlays a layer of soft rock. Differential erosion occurs as the river erodes the soft rock more readily than the hard rock, this leaves the hard rock more elevated and stands out from the river below. A plunge pool forms at the bottom and deepens as a result of hydraulic action and abrasion.\n",
      " Flooding \n",
      "Flooding is a natural part of a river's cycle. The majority of the erosion of river channels and the erosion and deposition on the associated floodplains occur during the flood stage. In many developed areas, human activity has changed the form of river channels, altering magnitudes and frequencies of flooding. Some examples of this are the building of levees, the straightening of channels, and the draining of natural wetlands. \n",
      "In many cases human activities in rivers and floodplains have dramatically increased the risk of flooding. Straightening rivers allows water to flow more rapidly downstream, increasing the risk of flooding places further downstream. Building on flood plains removes flood storage, which again exacerbates downstream flooding. The building of levees only protects the area behind the levees and not those further downstream.\n"
     ]
    }
   ],
   "source": [
    "print(outputs[movement_pos[6]])"
   ]
  },
  {
   "cell_type": "code",
   "execution_count": 20,
   "metadata": {},
   "outputs": [],
   "source": [
    "question = 'Why do rivers move?'\n",
    "question_spanish = 'Porque los rios se mueven?'"
   ]
  },
  {
   "cell_type": "code",
   "execution_count": 21,
   "metadata": {},
   "outputs": [],
   "source": [
    "answers_move = []"
   ]
  },
  {
   "cell_type": "code",
   "execution_count": 22,
   "metadata": {},
   "outputs": [
    {
     "name": "stderr",
     "output_type": "stream",
     "text": [
      "Token indices sequence length is longer than the specified maximum sequence length for this model (525 > 512). Running this sequence through the model will result in indexing errors\n"
     ]
    },
    {
     "name": "stdout",
     "output_type": "stream",
     "text": [
      "The size of tensor a (525) must match the size of tensor b (512) at non-singleton dimension 1\n",
      "The size of tensor a (1001) must match the size of tensor b (512) at non-singleton dimension 1\n",
      "The size of tensor a (1758) must match the size of tensor b (512) at non-singleton dimension 1\n",
      "The size of tensor a (1811) must match the size of tensor b (512) at non-singleton dimension 1\n"
     ]
    }
   ],
   "source": [
    "answers_move = get_list_answers(movement_pos, answers_move, model, tokenizer, question)"
   ]
  },
  {
   "cell_type": "code",
   "execution_count": 23,
   "metadata": {},
   "outputs": [
    {
     "name": "stdout",
     "output_type": "stream",
     "text": [
      "Stored 'answers_move' (list)\n"
     ]
    }
   ],
   "source": [
    "#%store answers_move"
   ]
  },
  {
   "cell_type": "code",
   "execution_count": 24,
   "metadata": {},
   "outputs": [],
   "source": [
    "%store -r answers_move"
   ]
  },
  {
   "cell_type": "code",
   "execution_count": null,
   "metadata": {},
   "outputs": [],
   "source": [
    "answers_move"
   ]
  },
  {
   "cell_type": "code",
   "execution_count": 29,
   "metadata": {},
   "outputs": [
    {
     "name": "stdout",
     "output_type": "stream",
     "text": [
      "For instance, the Amazon River receives water from more than 1,000 tributaries. Together, a river and its tributaries make up a river system. A river system is also called a drainage basin or watershed. A river’s watershed includes the river, all its tributaries, and any groundwater resources in the area.\n",
      "The end of a river is its mouth. Here, the river empties into another body of water—a larger river, a lake, or the ocean. Many of the largest rivers empty into the ocean.\n",
      "The flowing water of a river has great power to carve and shape the landscape. Many landforms, like the Grand Canyon in the U.S. state of Arizona, were sculpted by rivers over time. This process is called weathering or erosion.\n",
      "The energy of flowing river water comes from the force of gravity, which pulls the water downward. The steeper the slope of a river, the faster the river moves and the more energy it has.\n",
      "The movement of water in a river is called a current. The current is usually strongest near the river’s source. Storms can also increase the current. A swift current can move even large boulders. These break apart, and the pieces that are carried in the moving water scrape and dig into the river bottom, or bed.\n",
      "Little by little, a river tears away rocks and soil along its bed, and carries them downstream. The river carves a narrow, V-shaped valley. Rapids and waterfalls are common to rivers, particularly near their sources.\n",
      "Eventually, the river flows to lower land. As the slope of its course flattens, the river cuts less deeply into its bed. Instead, it begins to wind from side to side in looping bends called meanders. This action widens the river valley.\n",
      "At the same time, the river begins to leave behind some of the rocks, sand, and other solid material it collected upstream. This material is called sediment. Once the sediment is deposited, it is called alluvium. Alluvium may contain a great deal of eroded topsoil from upstream and from the banks of its meanders.\n"
     ]
    }
   ],
   "source": [
    "print(outputs[movement_pos[3]])"
   ]
  },
  {
   "cell_type": "code",
   "execution_count": 37,
   "metadata": {},
   "outputs": [],
   "source": [
    "question = \"Where does the flow of rivers come from?\"\n",
    "question_spanish = \"De donde viene el movimiento de el rio?\""
   ]
  },
  {
   "cell_type": "code",
   "execution_count": 34,
   "metadata": {},
   "outputs": [
    {
     "data": {
      "text/plain": [
       "'Why do rivers move?  force of gravity'"
      ]
     },
     "execution_count": 34,
     "metadata": {},
     "output_type": "execute_result"
    }
   ],
   "source": [
    "answer = get_the_answer(model, tokenizer, question, outputs[movement_pos[3]])\n",
    "answer"
   ]
  },
  {
   "cell_type": "code",
   "execution_count": 38,
   "metadata": {},
   "outputs": [
    {
     "data": {
      "text/plain": [
       "'De donde viene el movimiento de el rio?  [CLS]'"
      ]
     },
     "execution_count": 38,
     "metadata": {},
     "output_type": "execute_result"
    }
   ],
   "source": [
    "answer = get_the_answer(model, tokenizer, question_spanish, outputs[movement_pos[3]])\n",
    "answer"
   ]
  },
  {
   "cell_type": "markdown",
   "metadata": {},
   "source": [
    "#### Third question (river erosion)"
   ]
  },
  {
   "cell_type": "code",
   "execution_count": 49,
   "metadata": {},
   "outputs": [],
   "source": [
    "erosion_pos = []\n",
    "\n",
    "erosion_pos = find_words_in_paragraph(['erosion', 'river'], erosion_pos)"
   ]
  },
  {
   "cell_type": "code",
   "execution_count": 50,
   "metadata": {},
   "outputs": [
    {
     "data": {
      "text/plain": [
       "390"
      ]
     },
     "execution_count": 50,
     "metadata": {},
     "output_type": "execute_result"
    }
   ],
   "source": [
    "len(erosion_pos)"
   ]
  },
  {
   "cell_type": "code",
   "execution_count": 73,
   "metadata": {},
   "outputs": [],
   "source": [
    "question = \"Why do rivers cause erosion?\"\n",
    "question_spanish = \"Porque los rios causan erosion?\""
   ]
  },
  {
   "cell_type": "code",
   "execution_count": 69,
   "metadata": {},
   "outputs": [
    {
     "name": "stdout",
     "output_type": "stream",
     "text": [
      "The size of tensor a (514) must match the size of tensor b (512) at non-singleton dimension 1\n",
      "The size of tensor a (585) must match the size of tensor b (512) at non-singleton dimension 1\n",
      "The size of tensor a (581) must match the size of tensor b (512) at non-singleton dimension 1\n",
      "The size of tensor a (1759) must match the size of tensor b (512) at non-singleton dimension 1\n"
     ]
    }
   ],
   "source": [
    "answers_erosion = []\n",
    "\n",
    "answers_erosion = get_list_answers(erosion_pos, answers_erosion, model, tokenizer, question)"
   ]
  },
  {
   "cell_type": "code",
   "execution_count": 88,
   "metadata": {},
   "outputs": [
    {
     "name": "stdout",
     "output_type": "stream",
     "text": [
      "Stored 'answers_erosion' (list)\n"
     ]
    }
   ],
   "source": [
    "#%store answers_erosion"
   ]
  },
  {
   "cell_type": "code",
   "execution_count": null,
   "metadata": {},
   "outputs": [],
   "source": [
    "%store -r answers_erosion"
   ]
  },
  {
   "cell_type": "code",
   "execution_count": null,
   "metadata": {},
   "outputs": [],
   "source": [
    "answers_erosion"
   ]
  },
  {
   "cell_type": "code",
   "execution_count": 71,
   "metadata": {},
   "outputs": [
    {
     "name": "stdout",
     "output_type": "stream",
     "text": [
      "It is possible for all three processes to contribute to the development of a valley over geological time. The flat or relatively flat portion of a valley between its sides is referred to as the valley floor and is typically formed by river sediments and may be terraced.\n",
      " River valleys \n",
      "The development of a river valley is affected by the character of the bedrock over which the river or stream flows, the elevational difference between its top and bottom, and indeed the climate. Typically the flow will increase downstream and the gradient will decrease. In the upper valley, the stream will most effectively erode its bed through corrasion to produce a steep-sided V-shaped valley. The presence of more resistant rock bands, of geological faults, fractures, and folds may determine the course of the stream and result in a twisting course with interlocking spurs. In the middle valley, as numerous streams have coalesced, the valley is typically wider, the flow slower and both erosion and deposition may take place. More lateral erosion takes place in the middle section of a river's course, as strong currents on the outside of its curve eats at the bank. Conversely, deposition may take place on the inside of curves where the current is much slacker, the process leading to the river assuming a meandering character. In the lower valley, gradients are lowest, meanders may be much broader and a broader floodplain may result. Deposition dominates over erosion. A typical river basin or drainage basin will incorporate each of these different types of valley.\n",
      "Some sections of stream or river valleys may have vertically incised their course to such an extent that the valley they occupy is best described as a gorge, ravine or canyon. Rapid down-cutting may result from localised uplift of the land surface or a rejuvenation of the watercourse as a result for example of  a reduction in the base level to which the river is eroded, e.g. lowered global sea level during an ice age.\n"
     ]
    }
   ],
   "source": [
    "print(outputs[erosion_pos[14]])"
   ]
  },
  {
   "cell_type": "code",
   "execution_count": 74,
   "metadata": {},
   "outputs": [
    {
     "data": {
      "text/plain": [
       "'Why do rivers cause erosion?  strong currents on the outside of its curve eats at the bank'"
      ]
     },
     "execution_count": 74,
     "metadata": {},
     "output_type": "execute_result"
    }
   ],
   "source": [
    "answer = get_the_answer(model, tokenizer, question, outputs[erosion_pos[14]])\n",
    "answer"
   ]
  },
  {
   "cell_type": "code",
   "execution_count": 76,
   "metadata": {},
   "outputs": [
    {
     "data": {
      "text/plain": [
       "'Porque los rios causan erosion?  [CLS] porque los rios causan erosion ? [SEP]'"
      ]
     },
     "execution_count": 76,
     "metadata": {},
     "output_type": "execute_result"
    }
   ],
   "source": [
    "answer = get_the_answer(model, tokenizer, question_spanish, outputs[erosion_pos[14]])\n",
    "answer"
   ]
  },
  {
   "cell_type": "code",
   "execution_count": 72,
   "metadata": {},
   "outputs": [
    {
     "name": "stdout",
     "output_type": "stream",
     "text": [
      "For example, rainfall on roofs, pavements, and roads will be collected by rivers with almost no absorption into the groundwater.\n",
      "A drainage basin is an area of land where all flowing surface water converges to a single point, such as a river mouth, or flows into another body of water, such as a lake or ocean.\n",
      " See also \n",
      "Continental Divide of the Americas – Principal hydrological divide of North and South America\n",
      "Integrated catchment management\n",
      "Interbasin transfer\n",
      "International Journal of River Basin Management JRBM\n",
      "International Network of Basin Organizations\n",
      "Main stem – Final large channel of a riverine system\n",
      "River basin management plans\n",
      "River bifurcation – The forking of a river into its distributaries\n",
      "Tenaja\n",
      "Time of concentration\n",
      "Catchment hydrology\n",
      " References \n",
      " Citations \n",
      " Sources \n",
      " External links \n",
      "Instructional video: Manual watershed delineation is a five-step process\n",
      "Instructional video: To delineate a watershed you must identify land surface features from topographic contours\n",
      "Science week catchment factsheet\n",
      "Catchment Modelling Toolkit\n",
      "Water Evaluation And Planning System WEAP - modeling hydrologic processes in a drainage basin\n",
      "New Mexico State University - Water Task Force\n",
      "Recommended Watershed Terminology\n",
      "Watershed Condition Classification Technical Guide United States Forest Service\n",
      "Science in Your Watershed, USGS\n",
      "Studying Watersheds: A Confluence of Important Ideas\n",
      "Water Sustainability Project Sustainable water management through demand management and ecological governance, with the POLIS Project at the University of Victoria\n",
      "Map of the Earth's primary watersheds, WRI\n",
      "What is a watershed and why should I care?\n",
      "Cycleau - A project looking at approaches to managing catchments in North West Europe\n",
      "flash animation of how rain falling onto the landscape will drain into a river depending on the terrain\n",
      "StarHydro – software tool that covers concepts of fluvial geomorphology and watershed hydrology\n",
      "EPA Surf your watershed\n",
      "Florida Watersheds and River Basins - Florida DEP\n",
      "Erosion is the action of surface processes such as water flow or wind that removes soil, rock, or dissolved material from one location on the Earth's crust, and then transports it to another location where it is deposited.\n"
     ]
    }
   ],
   "source": [
    "print(outputs[erosion_pos[33]])"
   ]
  },
  {
   "cell_type": "code",
   "execution_count": 77,
   "metadata": {},
   "outputs": [
    {
     "data": {
      "text/plain": [
       "\"Why do rivers cause erosion?  the action of surface processes such as water flow or wind that removes soil , rock , or dissolved material from one location on the earth ' s crust\""
      ]
     },
     "execution_count": 77,
     "metadata": {},
     "output_type": "execute_result"
    }
   ],
   "source": [
    "answer = get_the_answer(model, tokenizer, question, outputs[erosion_pos[33]])\n",
    "answer"
   ]
  },
  {
   "cell_type": "code",
   "execution_count": 78,
   "metadata": {},
   "outputs": [
    {
     "data": {
      "text/plain": [
       "'Porque los rios causan erosion?  [SEP]'"
      ]
     },
     "execution_count": 78,
     "metadata": {},
     "output_type": "execute_result"
    }
   ],
   "source": [
    "answer = get_the_answer(model, tokenizer, question_spanish, outputs[erosion_pos[33]])\n",
    "answer"
   ]
  },
  {
   "cell_type": "code",
   "execution_count": 80,
   "metadata": {},
   "outputs": [
    {
     "name": "stdout",
     "output_type": "stream",
     "text": [
      "Example: Seine.\n",
      "Tropical pluvialThe tropical pluvial regime is characterized by:\n",
      "very low discharge in the cold season and abundant rainfall in the warm season\n",
      "minimum can reach very low values\n",
      "great variability of discharge during the year\n",
      "Relatively regular from one year to another\n",
      " Mixed régimesdouble regime \n",
      "Nivo-glacialonly one true maximum, which occurs in the late spring or the early summer from May to July in the case of the Northern hemisphere\n",
      "relatively high diurnal variations during the hot season\n",
      "significant yearly variation, but less than in the snow regime\n",
      "significant flowNivo-pluvialtwo maximums, the first occurring in the spring and the other in autumn\n",
      "a main low-water in October and a secondary low-water in January\n",
      "significant inter-annual variationsExample: Issole \n",
      "Pluvio-nivala period of rainfall in late autumn, followed by a light increase due to snow melt in early spring\n",
      "the single minimum occurs in autumn\n",
      "low amplitudeExample: Mississippi.\n",
      " Complex regimes \n",
      "The complex regime is characteristic of large rivers, the flow of which is diversely influenced by numerous tributaries from different altitudes, climates etc. The influences diminish extreme discharges and increase the regularity of the mean monthly discharge from upstream to downstream.\n",
      " References \n",
      "In geography and geology, fluvial processes are associated with rivers and streams and the deposits and landforms created by them. When the stream or rivers are associated with glaciers, ice sheets, or ice caps, the term glaciofluvial or fluvioglacial is used.\n",
      " Fluvial processes \n",
      "Fluvial processes include the motion of sediment and erosion or deposition on the river bed.The movement of water across the stream bed exerts a shear stress directly onto the bed. If the cohesive strength of the substrate is lower than the shear exerted, or the bed is composed of loose sediment which can be mobilized by such stresses, then the bed will be lowered purely by clearwater flow.\n"
     ]
    }
   ],
   "source": [
    "print(outputs[erosion_pos[150]])"
   ]
  },
  {
   "cell_type": "code",
   "execution_count": 81,
   "metadata": {},
   "outputs": [
    {
     "data": {
      "text/plain": [
       "'Why do rivers cause erosion?  the movement of water across the stream bed exerts a shear stress directly onto the bed'"
      ]
     },
     "execution_count": 81,
     "metadata": {},
     "output_type": "execute_result"
    }
   ],
   "source": [
    "answer = get_the_answer(model, tokenizer, question, outputs[erosion_pos[150]])\n",
    "answer"
   ]
  },
  {
   "cell_type": "code",
   "execution_count": 82,
   "metadata": {},
   "outputs": [
    {
     "data": {
      "text/plain": [
       "'Porque los rios causan erosion?  [SEP]'"
      ]
     },
     "execution_count": 82,
     "metadata": {},
     "output_type": "execute_result"
    }
   ],
   "source": [
    "answer = get_the_answer(model, tokenizer, question_spanish, outputs[erosion_pos[33]])\n",
    "answer"
   ]
  },
  {
   "cell_type": "markdown",
   "metadata": {},
   "source": [
    "##### Context obtained from pdf [Processes of a river](https://www.reigate-school.surrey.sch.uk/MainFolder/academic/Revision-2-/Water-on-land-paper-1-physical-rivers.pdf)"
   ]
  },
  {
   "cell_type": "code",
   "execution_count": 85,
   "metadata": {},
   "outputs": [],
   "source": [
    "erosion_context = \"\"\"\n",
    "Erosion\n",
    "There are four ways that a river\n",
    "erodes; hydraulic action, corrosion,\n",
    "corrosion and attrition. Hydraulic action: the force of the water wearing away the bed and bank of the river, Corrosion: the chemical reaction between the water and the bed and bank of\n",
    "the river, wearing it away, Corrasion/abrasion: where bedload in the river wears away its bed and bank and Attrition: where rocks in the water become smaller and rounder by hitting\n",
    "each other\"\"\""
   ]
  },
  {
   "cell_type": "code",
   "execution_count": 86,
   "metadata": {},
   "outputs": [
    {
     "data": {
      "text/plain": [
       "'Why do rivers cause erosion?  the force of the water wearing away the bed and bank of the river'"
      ]
     },
     "execution_count": 86,
     "metadata": {},
     "output_type": "execute_result"
    }
   ],
   "source": [
    "answer = get_the_answer(model, tokenizer, question, erosion_context)\n",
    "answer"
   ]
  },
  {
   "cell_type": "code",
   "execution_count": 87,
   "metadata": {},
   "outputs": [
    {
     "data": {
      "text/plain": [
       "'Porque los rios causan erosion?  hydraulic action , corrosion , corrosion and attrition'"
      ]
     },
     "execution_count": 87,
     "metadata": {},
     "output_type": "execute_result"
    }
   ],
   "source": [
    "answer = get_the_answer(model, tokenizer, question_spanish, erosion_context)\n",
    "answer"
   ]
  },
  {
   "cell_type": "markdown",
   "metadata": {},
   "source": [
    "#### Fourth question (river shape)"
   ]
  },
  {
   "cell_type": "code",
   "execution_count": 98,
   "metadata": {},
   "outputs": [],
   "source": [
    "shape_pos = []\n",
    "\n",
    "shape_pos = find_words_in_paragraph(['shape', 'river'], shape_pos)"
   ]
  },
  {
   "cell_type": "code",
   "execution_count": 99,
   "metadata": {},
   "outputs": [
    {
     "data": {
      "text/plain": [
       "249"
      ]
     },
     "execution_count": 99,
     "metadata": {},
     "output_type": "execute_result"
    }
   ],
   "source": [
    "len(shape_pos)"
   ]
  },
  {
   "cell_type": "code",
   "execution_count": 100,
   "metadata": {},
   "outputs": [],
   "source": [
    "question = \"How do rivers obtain their shape?\"\n",
    "question_spanish = \"Como es que los rios obtienen su forma?\""
   ]
  },
  {
   "cell_type": "code",
   "execution_count": 101,
   "metadata": {},
   "outputs": [
    {
     "name": "stdout",
     "output_type": "stream",
     "text": [
      "The size of tensor a (646) must match the size of tensor b (512) at non-singleton dimension 1\n",
      "The size of tensor a (622) must match the size of tensor b (512) at non-singleton dimension 1\n",
      "The size of tensor a (1003) must match the size of tensor b (512) at non-singleton dimension 1\n",
      "The size of tensor a (1760) must match the size of tensor b (512) at non-singleton dimension 1\n",
      "The size of tensor a (1813) must match the size of tensor b (512) at non-singleton dimension 1\n"
     ]
    }
   ],
   "source": [
    "answers_shape = []\n",
    "\n",
    "answers_shape = get_list_answers(shape_pos, answers_shape, model, tokenizer, question)"
   ]
  },
  {
   "cell_type": "code",
   "execution_count": 102,
   "metadata": {},
   "outputs": [
    {
     "name": "stdout",
     "output_type": "stream",
     "text": [
      "Stored 'answers_shape' (list)\n"
     ]
    }
   ],
   "source": [
    "#%store answers_shape"
   ]
  },
  {
   "cell_type": "code",
   "execution_count": null,
   "metadata": {},
   "outputs": [],
   "source": [
    "%store -r answers_shape"
   ]
  },
  {
   "cell_type": "code",
   "execution_count": null,
   "metadata": {},
   "outputs": [],
   "source": [
    "answers_shape"
   ]
  },
  {
   "cell_type": "code",
   "execution_count": 104,
   "metadata": {},
   "outputs": [
    {
     "name": "stdout",
     "output_type": "stream",
     "text": [
      "For instance, the Amazon River receives water from more than 1,000 tributaries. Together, a river and its tributaries make up a river system. A river system is also called a drainage basin or watershed. A river’s watershed includes the river, all its tributaries, and any groundwater resources in the area.\n",
      "The end of a river is its mouth. Here, the river empties into another body of water—a larger river, a lake, or the ocean. Many of the largest rivers empty into the ocean.\n",
      "The flowing water of a river has great power to carve and shape the landscape. Many landforms, like the Grand Canyon in the U.S. state of Arizona, were sculpted by rivers over time. This process is called weathering or erosion.\n",
      "The energy of flowing river water comes from the force of gravity, which pulls the water downward. The steeper the slope of a river, the faster the river moves and the more energy it has.\n",
      "The movement of water in a river is called a current. The current is usually strongest near the river’s source. Storms can also increase the current. A swift current can move even large boulders. These break apart, and the pieces that are carried in the moving water scrape and dig into the river bottom, or bed.\n",
      "Little by little, a river tears away rocks and soil along its bed, and carries them downstream. The river carves a narrow, V-shaped valley. Rapids and waterfalls are common to rivers, particularly near their sources.\n",
      "Eventually, the river flows to lower land. As the slope of its course flattens, the river cuts less deeply into its bed. Instead, it begins to wind from side to side in looping bends called meanders. This action widens the river valley.\n",
      "At the same time, the river begins to leave behind some of the rocks, sand, and other solid material it collected upstream. This material is called sediment. Once the sediment is deposited, it is called alluvium. Alluvium may contain a great deal of eroded topsoil from upstream and from the banks of its meanders.\n"
     ]
    }
   ],
   "source": [
    "print(outputs[shape_pos[0]])"
   ]
  },
  {
   "cell_type": "code",
   "execution_count": 105,
   "metadata": {},
   "outputs": [
    {
     "data": {
      "text/plain": [
       "'How do rivers obtain their shape?  flowing water of a river has great power to carve and shape the landscape'"
      ]
     },
     "execution_count": 105,
     "metadata": {},
     "output_type": "execute_result"
    }
   ],
   "source": [
    "answer = get_the_answer(model, tokenizer, question, outputs[shape_pos[0]])\n",
    "answer"
   ]
  },
  {
   "cell_type": "code",
   "execution_count": 106,
   "metadata": {},
   "outputs": [
    {
     "data": {
      "text/plain": [
       "'Como es que los rios obtienen su forma?  [CLS] como es que los rios obtienen su forma ? [SEP] for instance , the amazon river receives water from more than 1 , 000 tributaries . together , a river and its tributaries make up a river system . a river system is also called a drainage basin or watershed'"
      ]
     },
     "execution_count": 106,
     "metadata": {},
     "output_type": "execute_result"
    }
   ],
   "source": [
    "answer = get_the_answer(model, tokenizer, question_spanish, outputs[shape_pos[0]])\n",
    "answer"
   ]
  },
  {
   "cell_type": "markdown",
   "metadata": {},
   "source": [
    "##### Context obtained from [Deep bends: Just how does a river get its shape?](https://www.union-bulletin.com/local_columnists/dry_creek/deep-bends-just-how-does-a-river-get-its-shape/article_da1fc944-02cf-11e8-b2b7-9bca8fbe5f6d.html)"
   ]
  },
  {
   "cell_type": "code",
   "execution_count": 109,
   "metadata": {},
   "outputs": [],
   "source": [
    "shape_context = \"\"\"In rocky terrain, flowing water carves canyon walls that hem it in, but in soft valley soil, rivers and streams can shift their courses with ease.\n",
    "The looping curves that form as a result are called meanders. Almost any disturbance along the riverbank — a burrowing animal, a fallen tree — can cause a meander to start to form, as long as it weakens the bank a little, dislodging soil and triggering erosion.\n",
    "As the water rushes into this newly formed hollow in the bank, sweeping away more material, the flow on the opposite side of the stream actually weakens as a result.\n",
    "At the site of the original disturbance, more and more soil and rock gets carried away, causing the shape of the stream to bow outward; on the other side, the slower-moving water can not carry as much sediment, and material is deposited onto the bottom, building up the bank.\n",
    "Soon, a curve has formed, with deeper, faster water on the outside edge and shallow, slower water on the inside edge.\n",
    "But you have probably never seen a single U-shaped bend in the course of an otherwise straight stream.\n",
    "The formation of one meander triggers the formation of a second one immediately downstream, as the fast-moving water flowing out of the newly formed curve slams into the streams far side, causing more erosion and creating another bend in the opposite direction.\n",
    "On and on this process goes, forming the never-ending loops and squiggles we are familiar with.\"\"\""
   ]
  },
  {
   "cell_type": "code",
   "execution_count": 110,
   "metadata": {},
   "outputs": [
    {
     "data": {
      "text/plain": [
       "'How do rivers obtain their shape?  in soft valley soil'"
      ]
     },
     "execution_count": 110,
     "metadata": {},
     "output_type": "execute_result"
    }
   ],
   "source": [
    "answer = get_the_answer(model, tokenizer, question, shape_context)\n",
    "answer"
   ]
  },
  {
   "cell_type": "code",
   "execution_count": 111,
   "metadata": {},
   "outputs": [
    {
     "data": {
      "text/plain": [
       "'Como es que los rios obtienen su forma?  [SEP]'"
      ]
     },
     "execution_count": 111,
     "metadata": {},
     "output_type": "execute_result"
    }
   ],
   "source": [
    "answer = get_the_answer(model, tokenizer, question_spanish, shape_context)\n",
    "answer"
   ]
  },
  {
   "cell_type": "markdown",
   "metadata": {},
   "source": [
    "##### Fifth question (river color)"
   ]
  },
  {
   "cell_type": "code",
   "execution_count": 112,
   "metadata": {},
   "outputs": [],
   "source": [
    "color_pos = []\n",
    "\n",
    "color_pos = find_words_in_paragraph(['color', 'river'], color_pos)"
   ]
  },
  {
   "cell_type": "code",
   "execution_count": 113,
   "metadata": {},
   "outputs": [
    {
     "data": {
      "text/plain": [
       "144"
      ]
     },
     "execution_count": 113,
     "metadata": {},
     "output_type": "execute_result"
    }
   ],
   "source": [
    "len(color_pos)"
   ]
  },
  {
   "cell_type": "code",
   "execution_count": 114,
   "metadata": {},
   "outputs": [],
   "source": [
    "question = \"How do rivers obtain their color?\"\n",
    "question_spanish = \"Como es que los rios obtienen su color?\""
   ]
  },
  {
   "cell_type": "code",
   "execution_count": 115,
   "metadata": {},
   "outputs": [
    {
     "name": "stdout",
     "output_type": "stream",
     "text": [
      "The size of tensor a (919) must match the size of tensor b (512) at non-singleton dimension 1\n",
      "The size of tensor a (1034) must match the size of tensor b (512) at non-singleton dimension 1\n",
      "The size of tensor a (1813) must match the size of tensor b (512) at non-singleton dimension 1\n"
     ]
    }
   ],
   "source": [
    "answers_colors = []\n",
    "\n",
    "answers_colors = get_list_answers(color_pos, answers_colors, model, tokenizer, question)"
   ]
  },
  {
   "cell_type": "code",
   "execution_count": 116,
   "metadata": {},
   "outputs": [
    {
     "name": "stdout",
     "output_type": "stream",
     "text": [
      "Stored 'answers_colors' (list)\n"
     ]
    }
   ],
   "source": [
    "%store answers_colors"
   ]
  },
  {
   "cell_type": "code",
   "execution_count": null,
   "metadata": {},
   "outputs": [],
   "source": [
    "%store -r answers_colors"
   ]
  },
  {
   "cell_type": "code",
   "execution_count": null,
   "metadata": {},
   "outputs": [],
   "source": [
    "answers_colors"
   ]
  },
  {
   "cell_type": "code",
   "execution_count": 124,
   "metadata": {},
   "outputs": [
    {
     "name": "stdout",
     "output_type": "stream",
     "text": [
      "In addition, if the river carries significant quantities of sediment, this material can act as tools to enhance wear of the bed abrasion. At the same time the fragments themselves are ground down, becoming smaller and more rounded attrition.\n",
      "Sediment in rivers is transported as either bedload the coarser fragments which move close to the bed or suspended load finer fragments carried in the water. There is also a component carried as dissolved material.\n",
      "For each grain size there is a specific flow velocity at which the grains start to move, called entrainment velocity. However the grains will continue to be transported even if the velocity falls below the entrainment velocity due to the reduced or removed friction between the grains and the river bed. Eventually the velocity will fall low enough for the grains to be deposited. This is shown by the Hjulström curve.\n",
      "A river is continually picking up and dropping solid particles of rock and soil from its bed throughout its length. Where the river flow is fast, more particles are picked up than dropped. Where the river flow is slow, more particles are dropped than picked up. Areas where more particles are dropped are called alluvial or flood plains, and the dropped particles are called alluvium.\n",
      "Even small streams make alluvial deposits, but it is in floodplains and deltas of large rivers that large, geologically-significant alluvial deposits are found.\n",
      "The amount of matter carried by a large river is enormous. The names of many rivers derive from the color that the transported matter gives the water. For example, the Huang He in China is literally translated Yellow River, and the White Nile is named for the clay it carries. The Mississippi River in the United States is nicknamed the Big Muddy.\n"
     ]
    }
   ],
   "source": [
    "print(outputs[color_pos[31]])"
   ]
  },
  {
   "cell_type": "code",
   "execution_count": 125,
   "metadata": {},
   "outputs": [
    {
     "data": {
      "text/plain": [
       "'How do rivers obtain their color?  transported matter'"
      ]
     },
     "execution_count": 125,
     "metadata": {},
     "output_type": "execute_result"
    }
   ],
   "source": [
    "answer = get_the_answer(model, tokenizer, question, outputs[color_pos[31]])\n",
    "answer"
   ]
  },
  {
   "cell_type": "code",
   "execution_count": 126,
   "metadata": {},
   "outputs": [
    {
     "data": {
      "text/plain": [
       "'Como es que los rios obtienen su color? '"
      ]
     },
     "execution_count": 126,
     "metadata": {},
     "output_type": "execute_result"
    }
   ],
   "source": [
    "answer = get_the_answer(model, tokenizer, question_spanish, outputs[color_pos[31]])\n",
    "answer"
   ]
  },
  {
   "cell_type": "markdown",
   "metadata": {},
   "source": [
    "##### Context obtained from [American rivers](https://www.americanrivers.org/rivers/discover-your-river/river-colors/)"
   ]
  },
  {
   "cell_type": "code",
   "execution_count": 127,
   "metadata": {},
   "outputs": [],
   "source": [
    "color_context = \"\"\"Factors such as minerals, soil runoff and sediment, and even algae can cause water to vary from its natural color of blue.\n",
    "The most common cause for water to change color is minerals. When a rock is weathered down over time, the minerals from the rock are dissolved and small pieces are released into the water causing different colors.\n",
    "Iron, manganese, and calcium carbonate from limestone all common minerals that can cause water to range in color from red and orange to green and blue.\n",
    "Sediment and soil runoff can also change waters color, sometimes as a temporary color change after storms and sometimes permanently if the river constantly carries lots of sediment. Erosion from river banks brings soil into the river, changing the color. After heavy storms, many rivers run brown from all the runoff flowing into the river. Clay can cause rivers to be murky whiteuddy brown, or yellow.\n",
    "Algal blooms are natural occurring overgrowths of algae caused by sunlight, slow water, or nutrients. Pollution runoff from humans can also increase nutrients in the water and cause an algal bloom. Algae affect not only the health of a river but also the color. The color caused by algae can vary from a dark green to almost a reddish color. Algae consume nutrients from the water along with dissolved oxygen causing negative effects on the ecosystem of the river. Once the algae begin decaying it releases methane gas causing foul odors.\"\"\""
   ]
  },
  {
   "cell_type": "code",
   "execution_count": 129,
   "metadata": {},
   "outputs": [
    {
     "data": {
      "text/plain": [
       "'How do rivers obtain their color?  erosion from river banks'"
      ]
     },
     "execution_count": 129,
     "metadata": {},
     "output_type": "execute_result"
    }
   ],
   "source": [
    "answer = get_the_answer(model, tokenizer, question, color_context)\n",
    "answer"
   ]
  },
  {
   "cell_type": "code",
   "execution_count": 132,
   "metadata": {},
   "outputs": [
    {
     "data": {
      "text/plain": [
       "'Como es que los rios obtienen su color?  [CLS] como es que los rios obtienen su color ? [SEP] factors such as minerals , soil runoff and sediment , and even algae can cause water to vary from its natural color of blue'"
      ]
     },
     "execution_count": 132,
     "metadata": {},
     "output_type": "execute_result"
    }
   ],
   "source": [
    "answer = get_the_answer(model, tokenizer, question_spanish, color_context)\n",
    "answer"
   ]
  },
  {
   "cell_type": "markdown",
   "metadata": {},
   "source": [
    "#### Sixth question (flood in rivers)"
   ]
  },
  {
   "cell_type": "code",
   "execution_count": 130,
   "metadata": {},
   "outputs": [],
   "source": [
    "flood_pos = []\n",
    "\n",
    "flood_pos = find_words_in_paragraph(['flood', 'river'], flood_pos)"
   ]
  },
  {
   "cell_type": "code",
   "execution_count": 131,
   "metadata": {},
   "outputs": [
    {
     "data": {
      "text/plain": [
       "607"
      ]
     },
     "execution_count": 131,
     "metadata": {},
     "output_type": "execute_result"
    }
   ],
   "source": [
    "len(flood_pos)"
   ]
  },
  {
   "cell_type": "code",
   "execution_count": 133,
   "metadata": {},
   "outputs": [],
   "source": [
    "question = \"How are floods caused in rivers?\"\n",
    "question_spanish = \"Como es que las inundaciones se causan en los rios?\""
   ]
  },
  {
   "cell_type": "code",
   "execution_count": 134,
   "metadata": {},
   "outputs": [
    {
     "name": "stdout",
     "output_type": "stream",
     "text": [
      "The size of tensor a (695) must match the size of tensor b (512) at non-singleton dimension 1\n",
      "The size of tensor a (515) must match the size of tensor b (512) at non-singleton dimension 1\n",
      "The size of tensor a (789) must match the size of tensor b (512) at non-singleton dimension 1\n",
      "The size of tensor a (646) must match the size of tensor b (512) at non-singleton dimension 1\n",
      "The size of tensor a (586) must match the size of tensor b (512) at non-singleton dimension 1\n",
      "The size of tensor a (582) must match the size of tensor b (512) at non-singleton dimension 1\n",
      "The size of tensor a (1760) must match the size of tensor b (512) at non-singleton dimension 1\n",
      "The size of tensor a (1813) must match the size of tensor b (512) at non-singleton dimension 1\n"
     ]
    }
   ],
   "source": [
    "answers_flood = []\n",
    "\n",
    "answers_flood = get_list_answers(flood_pos, answers_flood, model, tokenizer, question)"
   ]
  },
  {
   "cell_type": "code",
   "execution_count": 144,
   "metadata": {},
   "outputs": [
    {
     "name": "stdout",
     "output_type": "stream",
     "text": [
      "Stored 'answers_flood' (list)\n"
     ]
    }
   ],
   "source": [
    "#%store answers_flood"
   ]
  },
  {
   "cell_type": "code",
   "execution_count": null,
   "metadata": {},
   "outputs": [],
   "source": [
    "%store -r answers_flood"
   ]
  },
  {
   "cell_type": "code",
   "execution_count": null,
   "metadata": {},
   "outputs": [],
   "source": [
    "answers_flood"
   ]
  },
  {
   "cell_type": "code",
   "execution_count": 136,
   "metadata": {},
   "outputs": [
    {
     "name": "stdout",
     "output_type": "stream",
     "text": [
      "Rain that falls in steep mountainous areas will reach the primary river in the drainage basin faster than flat or lightly sloping areas e.g., > 1 gradient.\n",
      " Shape \n",
      "Shape will contribute to the speed with which the runoff reaches a river. A long thin catchment will take longer to drain than a circular catchment.\n",
      " Size \n",
      "Size will help determine the amount of water reaching the river, as the larger the catchment the greater the potential for flooding. It is also determined on the basis of length and width of the drainage basin.\n",
      " Soil type \n",
      "Soil type will help determine how much water reaches the river. The runoff from the drainage area is dependent on the soil type. Certain soil types such as sandy soils are very free-draining, and rainfall on sandy soil is likely to be absorbed by the ground. However, soils containing clay can be almost impermeable and therefore rainfall on clay soils will run off and contribute to flood volumes. After prolonged rainfall even free-draining soils can become saturated, meaning that any further rainfall will reach the river rather than being absorbed by the ground. If the surface is impermeable the precipitation will create surface run-off which will lead to higher risk of flooding; if the ground is permeable, the precipitation will infiltrate the soil.\n",
      " Land use \n",
      "Land use can contribute to the volume of water reaching the river, in a similar way to clay soils.\n"
     ]
    }
   ],
   "source": [
    "print(outputs[flood_pos[34]])"
   ]
  },
  {
   "cell_type": "code",
   "execution_count": 137,
   "metadata": {},
   "outputs": [
    {
     "data": {
      "text/plain": [
       "'How are floods caused in rivers?  if the surface is impermeable the precipitation will create surface run - off'"
      ]
     },
     "execution_count": 137,
     "metadata": {},
     "output_type": "execute_result"
    }
   ],
   "source": [
    "answer = get_the_answer(model, tokenizer, question, outputs[flood_pos[34]])\n",
    "answer"
   ]
  },
  {
   "cell_type": "code",
   "execution_count": 138,
   "metadata": {},
   "outputs": [
    {
     "data": {
      "text/plain": [
       "'Como es que las inundaciones se causan en los rios?  [SEP]'"
      ]
     },
     "execution_count": 138,
     "metadata": {},
     "output_type": "execute_result"
    }
   ],
   "source": [
    "answer = get_the_answer(model, tokenizer, question_spanish, outputs[flood_pos[34]])\n",
    "answer"
   ]
  },
  {
   "cell_type": "markdown",
   "metadata": {},
   "source": [
    "##### Context obtained from [American rivers](https://www.americanrivers.org/rivers/discover-your-river/why-do-rivers-flood/)"
   ]
  },
  {
   "cell_type": "code",
   "execution_count": 140,
   "metadata": {},
   "outputs": [],
   "source": [
    "flood_context = \"\"\"Though ancient floods of this magnitude are hard to conceptualize, we are repeatedly exposed to tales of their contemporary brethren and the massive destruction they leave in their wake. Rivers and creeks flood when pulses of rainfall and/or snowmelt move downstream. This causes water to overtop the channels banks and spill onto the neighboring floodplain.\n",
    "A natural river channel is shaped by the amount of water and sediment that travels through it. Even though rivers can vary greatly in their form, a natural river’s channel is almost always sized to carry the largest amount of water that flows through the system once every two years.\"\"\""
   ]
  },
  {
   "cell_type": "code",
   "execution_count": 141,
   "metadata": {},
   "outputs": [
    {
     "data": {
      "text/plain": [
       "'How are floods caused in rivers?  when pulses of rainfall and / or snowmelt move downstream'"
      ]
     },
     "execution_count": 141,
     "metadata": {},
     "output_type": "execute_result"
    }
   ],
   "source": [
    "answer = get_the_answer(model, tokenizer, question, flood_context)\n",
    "answer"
   ]
  },
  {
   "cell_type": "code",
   "execution_count": 142,
   "metadata": {},
   "outputs": [
    {
     "data": {
      "text/plain": [
       "'Como es que las inundaciones se causan en los rios?  [CLS]'"
      ]
     },
     "execution_count": 142,
     "metadata": {},
     "output_type": "execute_result"
    }
   ],
   "source": [
    "answer = get_the_answer(model, tokenizer, question_spanish, color_context)\n",
    "answer"
   ]
  },
  {
   "cell_type": "markdown",
   "metadata": {},
   "source": [
    "#### Seventh question (reflection in water)"
   ]
  },
  {
   "cell_type": "code",
   "execution_count": 151,
   "metadata": {},
   "outputs": [],
   "source": [
    "reflection_pos = []\n",
    "\n",
    "reflection_pos = find_words_in_paragraph(['reflection'], reflection_pos)"
   ]
  },
  {
   "cell_type": "code",
   "execution_count": 152,
   "metadata": {},
   "outputs": [
    {
     "data": {
      "text/plain": [
       "53"
      ]
     },
     "execution_count": 152,
     "metadata": {},
     "output_type": "execute_result"
    }
   ],
   "source": [
    "len(reflection_pos)"
   ]
  },
  {
   "cell_type": "code",
   "execution_count": 163,
   "metadata": {},
   "outputs": [],
   "source": [
    "question = \"How is reflection caused in water?\"\n",
    "question_spanish = \"Como se causa el reflejo en el agua?\""
   ]
  },
  {
   "cell_type": "code",
   "execution_count": 154,
   "metadata": {},
   "outputs": [],
   "source": [
    "answers_reflection = []\n",
    "\n",
    "answers_reflection = get_list_answers(reflection_pos, answers_reflection, model, tokenizer, question)"
   ]
  },
  {
   "cell_type": "code",
   "execution_count": 156,
   "metadata": {},
   "outputs": [
    {
     "name": "stdout",
     "output_type": "stream",
     "text": [
      "Stored 'answers_reflection' (list)\n"
     ]
    }
   ],
   "source": [
    "#%store answers_reflection"
   ]
  },
  {
   "cell_type": "code",
   "execution_count": null,
   "metadata": {},
   "outputs": [],
   "source": [
    "%store -r answers_reflection"
   ]
  },
  {
   "cell_type": "code",
   "execution_count": null,
   "metadata": {},
   "outputs": [],
   "source": [
    "answers_reflection"
   ]
  },
  {
   "cell_type": "markdown",
   "metadata": {},
   "source": [
    "El corpus no parece tener la respuesta"
   ]
  },
  {
   "cell_type": "code",
   "execution_count": 157,
   "metadata": {},
   "outputs": [
    {
     "name": "stdout",
     "output_type": "stream",
     "text": [
      "When the probe arrived in the Saturnian system in 2004, it was hoped that hydrocarbon lakes or oceans might be detectable by reflected sunlight from the surface of any liquid bodies, but no specular reflections were initially observed.The possibility remained that liquid ethane and methane might be found on Titan's polar regions, where they were expected to be abundant and stable. In Titan's south polar region, an enigmatic dark feature named Ontario Lacus was the first suspected lake identified, possibly created by clouds that are observed to cluster in the area. A possible shoreline was also identified near the pole via radar imagery. Following a flyby on July 22, 2006, in which the Cassini spacecraft's radar imaged the northern latitudes, which were at the time in winter. A number of large, smooth and thus dark to radar patches were seen dotting the surface near the pole. Based on the observations, scientists announced definitive evidence of lakes filled with methane on Saturn's moon Titan in January 2007. The Cassini–Huygens team concluded that the imaged features are almost certainly the long-sought hydrocarbon lakes, the first stable bodies of surface liquid found off Earth. Some appear to have channels associated with liquid and lie in topographical depressions. Channels in some regions have created surprisingly little erosion, suggesting erosion on Titan is extremely slow, or some other recent phenomena may have wiped out older riverbeds and landforms. Overall, the Cassini radar observations have shown that lakes cover only a few percent of the surface and are concentrated near the poles, making Titan much dryer than Earth.\n"
     ]
    }
   ],
   "source": [
    "print(outputs[reflection_pos[8]])"
   ]
  },
  {
   "cell_type": "code",
   "execution_count": 164,
   "metadata": {},
   "outputs": [
    {
     "data": {
      "text/plain": [
       "'How is reflection caused in water?  sunlight'"
      ]
     },
     "execution_count": 164,
     "metadata": {},
     "output_type": "execute_result"
    }
   ],
   "source": [
    "answer = get_the_answer(model, tokenizer, question, outputs[reflection_pos[8]])\n",
    "answer"
   ]
  },
  {
   "cell_type": "code",
   "execution_count": 165,
   "metadata": {},
   "outputs": [
    {
     "data": {
      "text/plain": [
       "'Como se causa el reflejo en el agua?  [CLS] como se causa el reflejo en el agua ? [SEP]'"
      ]
     },
     "execution_count": 165,
     "metadata": {},
     "output_type": "execute_result"
    }
   ],
   "source": [
    "answer = get_the_answer(model, tokenizer, question_spanish, outputs[reflection_pos[8]])\n",
    "answer"
   ]
  },
  {
   "cell_type": "markdown",
   "metadata": {},
   "source": [
    "##### Context obtained from [Adorama](https://www.adorama.com/alc/how-to-photograph-amazing-water-reflections/)"
   ]
  },
  {
   "cell_type": "code",
   "execution_count": 158,
   "metadata": {},
   "outputs": [],
   "source": [
    "reflection_context = \"\"\"Reflection in water is caused when light hits the surface of still water and travels to our eye so we can see the complete image and light it’s reflecting.\n",
    "All materials reflect light in some way. However, if the surface is rough, the light scatters in all directions and the reflected image is blurry.\n",
    "Calm water is much flatter than most surfaces, so all the reflected light rays that arrange to complete a perfect image stay the arranged and don't scatter, creating the perfect mirrored image of the reflecting subject.\"\"\""
   ]
  },
  {
   "cell_type": "code",
   "execution_count": 166,
   "metadata": {},
   "outputs": [
    {
     "data": {
      "text/plain": [
       "'How is reflection caused in water?  when light hits the surface of still water'"
      ]
     },
     "execution_count": 166,
     "metadata": {},
     "output_type": "execute_result"
    }
   ],
   "source": [
    "answer = get_the_answer(model, tokenizer, question, reflection_context)\n",
    "answer"
   ]
  },
  {
   "cell_type": "code",
   "execution_count": 167,
   "metadata": {},
   "outputs": [
    {
     "data": {
      "text/plain": [
       "'Como se causa el reflejo en el agua?  light hits the surface of still water and travels to our eye so we can see the complete image and light it ’ s reflecting'"
      ]
     },
     "execution_count": 167,
     "metadata": {},
     "output_type": "execute_result"
    }
   ],
   "source": [
    "answer = get_the_answer(model, tokenizer, question_spanish, reflection_context)\n",
    "answer"
   ]
  },
  {
   "cell_type": "markdown",
   "metadata": {},
   "source": [
    "#### Eight question (weir)"
   ]
  },
  {
   "cell_type": "code",
   "execution_count": 168,
   "metadata": {},
   "outputs": [],
   "source": [
    "weir_pos = []\n",
    "\n",
    "weir_pos = find_words_in_paragraph(['weir'], weir_pos)"
   ]
  },
  {
   "cell_type": "code",
   "execution_count": 169,
   "metadata": {},
   "outputs": [
    {
     "data": {
      "text/plain": [
       "54"
      ]
     },
     "execution_count": 169,
     "metadata": {},
     "output_type": "execute_result"
    }
   ],
   "source": [
    "len(weir_pos)"
   ]
  },
  {
   "cell_type": "code",
   "execution_count": 188,
   "metadata": {},
   "outputs": [],
   "source": [
    "question = \"What is a weir?\"\n",
    "question_spanish = \"Que es una presa?\""
   ]
  },
  {
   "cell_type": "code",
   "execution_count": 171,
   "metadata": {},
   "outputs": [],
   "source": [
    "answers_weir = []\n",
    "\n",
    "answers_weir = get_list_answers(weir_pos, answers_weir, model, tokenizer, question)"
   ]
  },
  {
   "cell_type": "code",
   "execution_count": 172,
   "metadata": {},
   "outputs": [
    {
     "name": "stdout",
     "output_type": "stream",
     "text": [
      "Stored 'answers_weir' (list)\n"
     ]
    }
   ],
   "source": [
    "#%store answers_weir"
   ]
  },
  {
   "cell_type": "code",
   "execution_count": null,
   "metadata": {},
   "outputs": [],
   "source": [
    "%store -r answers_weir"
   ]
  },
  {
   "cell_type": "code",
   "execution_count": null,
   "metadata": {},
   "outputs": [],
   "source": [
    "answers_weir"
   ]
  },
  {
   "cell_type": "markdown",
   "metadata": {},
   "source": [
    "There isn't enough information on the corpus"
   ]
  },
  {
   "cell_type": "code",
   "execution_count": 174,
   "metadata": {},
   "outputs": [
    {
     "name": "stdout",
     "output_type": "stream",
     "text": [
      "The Orange and Limpopo Rivers in southern Africa form the boundaries between provinces and countries along their routes.\n",
      " Sacred rivers \n",
      "Sacred rivers and their reverence is a phenomenon found in several religions, especially religions in which nature is revered. For example, the Indian-origin religions of Buddhism, Hinduism, Jainism, and Sikhism revere and preserve groves, forests, trees, mountains and rivers as sacred. Among the most sacred rivers in Hinduism are the Ganges, Yamuna, and Sarasvati rivers. Other sacred rivers for Indian religions include the Rigvedic rivers, the Narmada, the Godavari, and the Kaveri rivers. The Vedas and Gita, the most sacred of Hindu texts, were written on the banks of the Sarasvati river.\n",
      " Management \n",
      "Rivers are often managed or controlled to make them more useful or less disruptive to human activity.\n",
      "Dams or weirs may be built to control the flow, store water, or extract energy.\n",
      "Levees, known as dikes in Europe, may be built to prevent river water from flowing on floodplains or floodways.\n",
      "Canals connect rivers to one another for water transfer or navigation.\n",
      "River courses may be modified to improve navigation, or straightened to increase the flow rate.River management is a continuous activity as rivers tend to undo the modifications made by people. Dredged channels silt up, sluice mechanisms deteriorate with age, levees and dams may suffer seepage or catastrophic failure. The benefits sought through managing rivers may often be offset by the social and economic costs of mitigating the bad effects of such management. As an example, in parts of the developed world, rivers have been confined within channels to free up flat flood-plain land for development.\n"
     ]
    }
   ],
   "source": [
    "print(outputs[weir_pos[0]])"
   ]
  },
  {
   "cell_type": "code",
   "execution_count": 175,
   "metadata": {},
   "outputs": [
    {
     "data": {
      "text/plain": [
       "'What is a weir?  dams or weirs may be built to control the flow , store water , or extract energy'"
      ]
     },
     "execution_count": 175,
     "metadata": {},
     "output_type": "execute_result"
    }
   ],
   "source": [
    "answer = get_the_answer(model, tokenizer, question, outputs[weir_pos[0]])\n",
    "answer"
   ]
  },
  {
   "cell_type": "code",
   "execution_count": 176,
   "metadata": {},
   "outputs": [
    {
     "data": {
      "text/plain": [
       "'Que es una presa?  rivers have been confined within channels to free up flat flood - plain land for development'"
      ]
     },
     "execution_count": 176,
     "metadata": {},
     "output_type": "execute_result"
    }
   ],
   "source": [
    "answer = get_the_answer(model, tokenizer, question_spanish, outputs[weir_pos[0]])\n",
    "answer"
   ]
  },
  {
   "cell_type": "markdown",
   "metadata": {},
   "source": [
    "##### Context obtained from [Wikipedia](https://en.wikipedia.org/wiki/Weir)"
   ]
  },
  {
   "cell_type": "code",
   "execution_count": 187,
   "metadata": {},
   "outputs": [],
   "source": [
    "weir_context = \"\"\"A weir /wɪər/ or low head dam is a barrier across the width of a river that alters the flow characteristics of water and usually results in a change in the height of the river level. Weirs are also used to control the flow of water for outlets of lakes, ponds, and reservoirs. There are many weir designs, but commonly water flows freely over the top of the weir crest before cascading down to a lower level. \"\"\""
   ]
  },
  {
   "cell_type": "code",
   "execution_count": 189,
   "metadata": {},
   "outputs": [
    {
     "data": {
      "text/plain": [
       "'What is a weir?  a barrier across the width of a river'"
      ]
     },
     "execution_count": 189,
     "metadata": {},
     "output_type": "execute_result"
    }
   ],
   "source": [
    "answer = get_the_answer(model, tokenizer, question, weir_context)\n",
    "answer"
   ]
  },
  {
   "cell_type": "code",
   "execution_count": 190,
   "metadata": {},
   "outputs": [
    {
     "data": {
      "text/plain": [
       "'Que es una presa? '"
      ]
     },
     "execution_count": 190,
     "metadata": {},
     "output_type": "execute_result"
    }
   ],
   "source": [
    "answer = get_the_answer(model, tokenizer, question_spanish, weir_context)\n",
    "answer"
   ]
  },
  {
   "cell_type": "markdown",
   "metadata": {},
   "source": [
    "#### Nineth question (Speed of a river)"
   ]
  },
  {
   "cell_type": "code",
   "execution_count": 192,
   "metadata": {},
   "outputs": [],
   "source": [
    "speed_pos = []\n",
    "\n",
    "speed_pos = find_words_in_paragraph(['speed', 'river'], speed_pos)"
   ]
  },
  {
   "cell_type": "code",
   "execution_count": 193,
   "metadata": {},
   "outputs": [
    {
     "data": {
      "text/plain": [
       "70"
      ]
     },
     "execution_count": 193,
     "metadata": {},
     "output_type": "execute_result"
    }
   ],
   "source": [
    "len(speed_pos)"
   ]
  },
  {
   "cell_type": "code",
   "execution_count": 194,
   "metadata": {},
   "outputs": [],
   "source": [
    "question = \"What are the factors for speed in a river?\"\n",
    "question_spanish = \"Cuales son los factores para la velocidad de un rio?\""
   ]
  },
  {
   "cell_type": "code",
   "execution_count": 196,
   "metadata": {},
   "outputs": [
    {
     "name": "stdout",
     "output_type": "stream",
     "text": [
      "The size of tensor a (1763) must match the size of tensor b (512) at non-singleton dimension 1\n"
     ]
    }
   ],
   "source": [
    "answers_speed = []\n",
    "\n",
    "answers_speed = get_list_answers(speed_pos, answers_speed, model, tokenizer, question)"
   ]
  },
  {
   "cell_type": "code",
   "execution_count": 197,
   "metadata": {},
   "outputs": [
    {
     "name": "stdout",
     "output_type": "stream",
     "text": [
      "Stored 'answers_speed' (list)\n"
     ]
    }
   ],
   "source": [
    "#%store answers_speed"
   ]
  },
  {
   "cell_type": "code",
   "execution_count": 198,
   "metadata": {},
   "outputs": [],
   "source": [
    "%store -r answers_speed"
   ]
  },
  {
   "cell_type": "code",
   "execution_count": null,
   "metadata": {},
   "outputs": [],
   "source": [
    "answers_speed"
   ]
  },
  {
   "cell_type": "code",
   "execution_count": 205,
   "metadata": {},
   "outputs": [
    {
     "name": "stdout",
     "output_type": "stream",
     "text": [
      "This flow of the boundary layer is significantly different from the speed and direction of the primary flow of the river, and is part of the river's secondary flow.\n",
      "River flood plains that contain rivers with a highly sinuous platform are populated by longer oxbow lakes than those with low sinuosity.  This is because rivers with high sinuosity have larger meanders, and greater opportunity for longer lakes to form. Rivers with lower sinuosity are characterized by fewer cutoffs and shorter oxbow lakes due to the shorter distance of their meanders.\n",
      " Oxbow lake ecology \n",
      "Oxbow lakes form favorable habitats for wildlife communities. These often have unique characteristics. For example, the numerous oxbow lakes of the Amazon River are a favorable habitat for the giant river otter. Oxbow lakes may also be suitable locations for aquaculture.Oxbow lakes contribute to the health of a river ecosystem by trapping sediments and agricultural runoff, thereby removing them from the main river flow. However, this is destructive of the oxbow lake ecosystem itself. Oxbow lakes are also vulnerable to heavy metal contamination from industrial sources.\n",
      " Artificial oxbow lakes \n",
      "Oxbow lakes may be formed when a river channel is straightened artificially to improve navigation or for flood alleviation. This occurred notably on the upper Rhine in Germany in the nineteenth century.An example of an entirely artificial waterway with oxbows is the Oxford Canal in England.\n"
     ]
    }
   ],
   "source": [
    "print(outputs[speed_pos[6]])"
   ]
  },
  {
   "cell_type": "markdown",
   "metadata": {},
   "source": [
    "There isn't enough information in the corpus"
   ]
  },
  {
   "cell_type": "code",
   "execution_count": 206,
   "metadata": {},
   "outputs": [
    {
     "data": {
      "text/plain": [
       "'What are the factors for speed in a river?  speed and direction'"
      ]
     },
     "execution_count": 206,
     "metadata": {},
     "output_type": "execute_result"
    }
   ],
   "source": [
    "answer = get_the_answer(model, tokenizer, question, outputs[speed_pos[6]])\n",
    "answer"
   ]
  },
  {
   "cell_type": "code",
   "execution_count": 207,
   "metadata": {},
   "outputs": [
    {
     "data": {
      "text/plain": [
       "'Cuales son los factores para la velocidad de un rio?  [SEP]'"
      ]
     },
     "execution_count": 207,
     "metadata": {},
     "output_type": "execute_result"
    }
   ],
   "source": [
    "answer = get_the_answer(model, tokenizer, question_spanish, outputs[speed_pos[6]])\n",
    "answer"
   ]
  },
  {
   "cell_type": "markdown",
   "metadata": {},
   "source": [
    "##### Context obtained from [Globo surf](https://www.globosurfer.com/river-velocity/)"
   ]
  },
  {
   "cell_type": "code",
   "execution_count": 211,
   "metadata": {},
   "outputs": [],
   "source": [
    "speed_context = \"\"\"The River’s Velocity Factors\n",
    "The river’s speed is directly related to some of the factors like the channel shape, the gradient of the slope, the water volume, the riverbed, and the friction, the erosion… And, as you can guess, it could vary from place to place, somewhere it can be fairly quickly, while in the other areas the same river could look more like a lake than an actual river.\n",
    "The Shape Of The Channel\n",
    "The first thing that affects the speed of the river in the shape of the channel. As the water flows it creates friction against the edges. The deeper and wider the channel is, the faster the water will be because the less amount of the water will be in touch and slowed down by the edges.\n",
    "Water Volume\n",
    "This is simple physics, the bigger the volume, the faster the river will be. Also, as the volume increases the level of erosion rises with it, creating a deeper and wider river bed that will allow the water to move easily.\n",
    "Smoothness And Roughness Of The Channel\n",
    "If there are lots of stones, rocks, or sand in the channel, the water will be slowed down by the friction and the resistance. The channels with fewer rocks and sand don’t have to deal with those, so the water saves the energy and therefore moves faster.\n",
    "Gradient And The Elevation Of The Riverbed\n",
    "The steeper the slope, the faster the water will be, thanks to gravity. For the experiment, you could take a bucket and fill it with water. Now start to pour the water. You’ll notice that the speed of the water running out of the bucket will increase as you turn it. The same principle works for the water in the river. When it meets the steep slope, it will gain speed. Also, it goes the other way, if the water runs into an uphill area, it is more likely that it will go slower.\"\"\""
   ]
  },
  {
   "cell_type": "code",
   "execution_count": 212,
   "metadata": {},
   "outputs": [
    {
     "data": {
      "text/plain": [
       "'What are the factors for speed in a river?  channel shape , the gradient of the slope , the water volume , the riverbed , and the friction , the erosion'"
      ]
     },
     "execution_count": 212,
     "metadata": {},
     "output_type": "execute_result"
    }
   ],
   "source": [
    "answer = get_the_answer(model, tokenizer, question, speed_context)\n",
    "answer"
   ]
  },
  {
   "cell_type": "code",
   "execution_count": 213,
   "metadata": {},
   "outputs": [
    {
     "data": {
      "text/plain": [
       "'Cuales son los factores para la velocidad de un rio? '"
      ]
     },
     "execution_count": 213,
     "metadata": {},
     "output_type": "execute_result"
    }
   ],
   "source": [
    "answer = get_the_answer(model, tokenizer, question_spanish, speed_context)\n",
    "answer"
   ]
  },
  {
   "cell_type": "markdown",
   "metadata": {},
   "source": [
    "#### Tenth question (Discharge)"
   ]
  },
  {
   "cell_type": "code",
   "execution_count": 16,
   "metadata": {},
   "outputs": [],
   "source": [
    "discharge_pos = []\n",
    "\n",
    "discharge_pos = find_words_in_paragraph(['discharge'], discharge_pos)"
   ]
  },
  {
   "cell_type": "code",
   "execution_count": 17,
   "metadata": {},
   "outputs": [
    {
     "data": {
      "text/plain": [
       "442"
      ]
     },
     "execution_count": 17,
     "metadata": {},
     "output_type": "execute_result"
    }
   ],
   "source": [
    "len(discharge_pos)"
   ]
  },
  {
   "cell_type": "code",
   "execution_count": 25,
   "metadata": {},
   "outputs": [],
   "source": [
    "question = \"What is discharge in water?\"\n",
    "question_spanish = \"Que es la descarga en el agua?\""
   ]
  },
  {
   "cell_type": "code",
   "execution_count": 19,
   "metadata": {},
   "outputs": [
    {
     "name": "stderr",
     "output_type": "stream",
     "text": [
      "Token indices sequence length is longer than the specified maximum sequence length for this model (613 > 512). Running this sequence through the model will result in indexing errors\n"
     ]
    },
    {
     "name": "stdout",
     "output_type": "stream",
     "text": [
      "The size of tensor a (613) must match the size of tensor b (512) at non-singleton dimension 1\n",
      "The size of tensor a (613) must match the size of tensor b (512) at non-singleton dimension 1\n",
      "The size of tensor a (1759) must match the size of tensor b (512) at non-singleton dimension 1\n",
      "The size of tensor a (613) must match the size of tensor b (512) at non-singleton dimension 1\n"
     ]
    }
   ],
   "source": [
    "answers_discharge = []\n",
    "\n",
    "answers_discharge = get_list_answers(discharge_pos, answers_discharge, model, tokenizer, question)"
   ]
  },
  {
   "cell_type": "code",
   "execution_count": 20,
   "metadata": {},
   "outputs": [
    {
     "name": "stdout",
     "output_type": "stream",
     "text": [
      "Stored 'answers_discharge' (list)\n"
     ]
    }
   ],
   "source": [
    "%store answers_discharge"
   ]
  },
  {
   "cell_type": "code",
   "execution_count": null,
   "metadata": {},
   "outputs": [],
   "source": [
    "%store -r answers_discharge"
   ]
  },
  {
   "cell_type": "code",
   "execution_count": null,
   "metadata": {},
   "outputs": [],
   "source": [
    "answers_discharge"
   ]
  },
  {
   "cell_type": "code",
   "execution_count": 22,
   "metadata": {},
   "outputs": [
    {
     "name": "stdout",
     "output_type": "stream",
     "text": [
      "It has relatively cool temperatures, high oxygen levels, and fast, turbulent, swift flow.\n",
      "The potamon is the remaining downstream stretch of river. It has warmer temperatures, lower oxygen levels, slow flow and sandier bottoms.\n",
      " Navigability \n",
      "The international scale of river difficulty is used to rate the challenges of navigation—particularly those with rapids. Class I is the easiest and Class VI is the hardest.\n",
      " Streamflow \n",
      "Studying the flows of rivers is one aspect of hydrology.\n",
      " Characteristics \n",
      " Direction \n",
      "Rivers flow downhill with their power derived from gravity. A common misconception holds that all or most most rivers flow from north to south, but this is not so: rivers flow in all directions of the compass and often have complex meandering paths.Rivers flowing downhill, from river source to river mouth, do not necessarily take the shortest path. For alluvial streams, straight and braided rivers have very low sinuosity and flow directly down hill, while meandering rivers flow from side to side across a valley. Bedrock rivers typically flow in either a fractal pattern, or a pattern that is determined by weaknesses in the bedrock, such as faults, fractures, or more erodible layers.\n",
      " Rate \n",
      "Volumetric flow rate, also known as discharge, volume flow rate, and rate of water flow, is the volume of water which passes through a given cross-section of the river channel per unit time. It is typically measured in cubic metres per second cumec or cubic feet per second cfs.\n",
      "Volumetric flow rate can be thought of as the mean velocity of the flow through a given cross-section, times that cross-sectional area. Mean velocity can be approximated through the use of the law of the wall.\n"
     ]
    }
   ],
   "source": [
    "print(outputs[discharge_pos[3]])"
   ]
  },
  {
   "cell_type": "code",
   "execution_count": 23,
   "metadata": {},
   "outputs": [
    {
     "data": {
      "text/plain": [
       "'What is discharge in water?  volumetric flow rate'"
      ]
     },
     "execution_count": 23,
     "metadata": {},
     "output_type": "execute_result"
    }
   ],
   "source": [
    "answer = get_the_answer(model, tokenizer, question, outputs[discharge_pos[3]])\n",
    "answer"
   ]
  },
  {
   "cell_type": "code",
   "execution_count": 26,
   "metadata": {},
   "outputs": [
    {
     "data": {
      "text/plain": [
       "'Que es la descarga en el agua?  [CLS]'"
      ]
     },
     "execution_count": 26,
     "metadata": {},
     "output_type": "execute_result"
    }
   ],
   "source": [
    "answer = get_the_answer(model, tokenizer, question_spanish, outputs[discharge_pos[6]])\n",
    "answer"
   ]
  },
  {
   "cell_type": "markdown",
   "metadata": {},
   "source": [
    "### Question with another type of corpus (history)"
   ]
  },
  {
   "cell_type": "code",
   "execution_count": 31,
   "metadata": {},
   "outputs": [],
   "source": [
    "history_context = '''World War I or the First World War, often abbreviated as WWI or WW1, and referred to by some Anglophone authors as the \"Great War\" or the \"War to End All Wars\", was a global conflict which lasted from 1914 to 1918, and is considered one of the deadliest conflicts in history. Belligerents included much of Europe, the Russian Empire, the United States, and the Ottoman Empire, with fighting occurring throughout Europe, the Middle East, Africa, the Pacific, and parts of Asia. An estimated 9 million soldiers were killed in combat, plus another 23 million wounded, while 5 million civilians died as a result of military action, hunger, and disease.[2] Millions more died in genocides within the Ottoman Empire and in the 1918 influenza pandemic, which was exacerbated by the movement of combatants during the war.\n",
    "Prior to 1914, the European great powers were divided between the Triple Entente, comprising France, Russia, and Britain, and the Triple Alliance, containing Germany, Austria-Hungary, and Italy. Tensions in the Balkans came to a head on 28 June 1914 following the assassination of Archduke Franz Ferdinand, the Austro-Hungarian heir, by Gavrilo Princip, a Bosnian Serb. Austria-Hungary blamed Serbia, which led to the July Crisis, an unsuccessful attempt to avoid conflict through diplomacy. On 28 July 1914, Austria-Hungary declared war on Serbia, and Russia came to the latter's defence. By 4 August, the system of entangling alliances drew in Germany, France, and Britain, along with their respective colonies, although Italy initially remained neutral. In November 1914, the Ottoman Empire, Germany, and Austria-Hungary formed the Central Powers, and on 26 April 1915, Italy joined Britain, France, Russia, and Serbia as the Allies of World War I.'''\n"
   ]
  },
  {
   "cell_type": "code",
   "execution_count": 32,
   "metadata": {},
   "outputs": [],
   "source": [
    "question = \"What started the first world war?\"\n",
    "question_spanish = \"Que comenzo la primera guerra mundial?\""
   ]
  },
  {
   "cell_type": "code",
   "execution_count": 33,
   "metadata": {},
   "outputs": [
    {
     "data": {
      "text/plain": [
       "'What started the first world war?  the assassination of archduke franz ferdinand , the austro - hungarian heir , by gavrilo princip , a bosnian serb'"
      ]
     },
     "execution_count": 33,
     "metadata": {},
     "output_type": "execute_result"
    }
   ],
   "source": [
    "answer = get_the_answer(model, tokenizer, question, history_context)\n",
    "answer"
   ]
  },
  {
   "cell_type": "markdown",
   "metadata": {},
   "source": [
    "## Conclusion"
   ]
  },
  {
   "cell_type": "markdown",
   "metadata": {},
   "source": [
    "- Hubo alguna diferencia de las preguntas en español y en ingles?\n",
    "  - Si la mayoria de las veces el modelo no pudo responder la pregunta en espanol, pero hubo unas cuatro veces en que la respondio y aparte daba hasta mas texto que la respuesta en ingles o daba un texto diferente al del ingles que era incorrecto en si para la pregunta.\n",
    "- Que lenguaje conviene mas y porque?\n",
    "  - Ingles, ya que el modleo en realidad fue entrenado solo con texto en ingles, a lo que dice la descripcion\n",
    "- Cual era el tamaño del corpus?\n",
    "  - 74364 parrafos y oracions (texto que terminaba con un . y espacio)\n",
    "- Cuantas respuestas tienen coherencia?\n",
    "  - La mayoria de las respuestas tienen coherencia, solo que la mayoria de las veces la respuesta era solo agarrar una parte del texto del contexto que estaba cerca de las palabras de la pregunta, cuando habia mas informacion que explicaba la pregunta en el texto. Muchas veces no fue tanto de entender el texto si no encontrar el texto que estaba cerca de la pregunta.\n",
    "- Si cambias el corpus y preguntas lo mismo recibira una respuesta? Demuestre\n",
    "  - Si sirve, al menos con historia lo comprobamos con la pregunta que sale antes del tema sobre la conclusion, donde preguntamos sobre quien comenzo la primera guerra mundial y el modelo pudo encontrar en el contexto que fue por el asesinato del archiduque.\n",
    "- Cuantos lenguajes puede manejar BERT para resolver preguntas?\n",
    "  - Nuestro modelo para responder preguntas en realidad solo sirve para un lenguaje, de la descripcion que tiene solo fue entrenado con texto en ingles.\n"
   ]
  },
  {
   "cell_type": "markdown",
   "metadata": {},
   "source": []
  }
 ],
 "metadata": {
  "kernelspec": {
   "display_name": "Python 3.10.6 ('torch-cpu')",
   "language": "python",
   "name": "python3"
  },
  "language_info": {
   "codemirror_mode": {
    "name": "ipython",
    "version": 3
   },
   "file_extension": ".py",
   "mimetype": "text/x-python",
   "name": "python",
   "nbconvert_exporter": "python",
   "pygments_lexer": "ipython3",
   "version": "3.10.6"
  },
  "orig_nbformat": 4,
  "vscode": {
   "interpreter": {
    "hash": "618791345df5113be3ffe8d5ea2418e2fefe0ca762ffde9898384634c6b48731"
   }
  }
 },
 "nbformat": 4,
 "nbformat_minor": 2
}
